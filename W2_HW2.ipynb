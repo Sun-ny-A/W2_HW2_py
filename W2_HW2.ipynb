{
 "cells": [
  {
   "cell_type": "markdown",
   "id": "0bbfe359",
   "metadata": {},
   "source": [
    "Exercise 1\n",
    "Given a list as a parameter,write a function that returns a list of numbers that are less than ten\n",
    "\n",
    "\n",
    "For example: Say your input parameter to the function is [1,11,14,5,8,9]...Your output should [1,5,8,9]"
   ]
  },
  {
   "cell_type": "code",
   "execution_count": 1,
   "id": "d8605116",
   "metadata": {
    "scrolled": true
   },
   "outputs": [
    {
     "name": "stdout",
     "output_type": "stream",
     "text": [
      "1\n",
      "5\n",
      "8\n",
      "9\n"
     ]
    }
   ],
   "source": [
    "# Use the following list - [1,11,14,5,8,9]\n",
    "\n",
    "num = [1,11,14,5,8,9]\n",
    "\n",
    "def deuce():\n",
    "    for number in num:\n",
    "        if number <=10:\n",
    "            print(number)\n",
    "    else:\n",
    "        pass\n",
    "\n",
    "deuce()"
   ]
  },
  {
   "cell_type": "markdown",
   "id": "a1110b4f",
   "metadata": {},
   "source": [
    "Exercise 2\n",
    "Write a function that takes in two lists and returns the two lists merged together and sorted\n",
    "Hint: You can use the .sort() method"
   ]
  },
  {
   "cell_type": "code",
   "execution_count": 2,
   "id": "6eaf4e4b",
   "metadata": {},
   "outputs": [
    {
     "name": "stdout",
     "output_type": "stream",
     "text": [
      "[1, 2, 3, 4, 5, 6, 3, 4, 5, 6, 7, 8, 10]\n"
     ]
    }
   ],
   "source": [
    "l_1 = [1,2,3,4,5,6]\n",
    "l_2 = [3,4,5,6,7,8,10]\n",
    "\n",
    "# combined = l_1 + l_2\n",
    "# ordered = combined.sort()\n",
    "# print(ordered)\n",
    "#need a for loop...\n",
    "\n",
    "def ordered():\n",
    "    combined = l_1 + l_2\n",
    "    print(combined)\n",
    "    ordered = combined.sort()\n",
    "\n",
    "ordered()"
   ]
  },
  {
   "cell_type": "code",
   "execution_count": null,
   "id": "5062a649",
   "metadata": {},
   "outputs": [],
   "source": []
  }
 ],
 "metadata": {
  "kernelspec": {
   "display_name": "Python 3 (ipykernel)",
   "language": "python",
   "name": "python3"
  },
  "language_info": {
   "codemirror_mode": {
    "name": "ipython",
    "version": 3
   },
   "file_extension": ".py",
   "mimetype": "text/x-python",
   "name": "python",
   "nbconvert_exporter": "python",
   "pygments_lexer": "ipython3",
   "version": "3.9.12"
  },
  "toc": {
   "base_numbering": 1,
   "nav_menu": {},
   "number_sections": false,
   "sideBar": true,
   "skip_h1_title": false,
   "title_cell": "Table of Contents",
   "title_sidebar": "Contents",
   "toc_cell": false,
   "toc_position": {},
   "toc_section_display": true,
   "toc_window_display": false
  }
 },
 "nbformat": 4,
 "nbformat_minor": 5
}
