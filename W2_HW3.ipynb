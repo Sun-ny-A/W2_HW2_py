{
 "cells": [
  {
   "cell_type": "markdown",
   "id": "3b2383cf",
   "metadata": {},
   "source": [
    "Assignment: Shopping Cart  Implementation\n",
    "\n",
    "Objective: Enhance your understanding of dictionaries by creating and integrating a shopping cart system into a Jupyter Notebook.\n",
    "\n",
    "Instructions:\n",
    "\n",
    "1. Utilizing the Jupyter Notebook provided in today's session, design and develop a shopping cart system.\n",
    "\n",
    "2. Once you've successfully developed the system, commit your assignment to your personal GitHub repository.\n",
    "\n",
    "3. After committing, submit the link to your GitHub repository on the Google Assignment platform for review."
   ]
  },
  {
   "cell_type": "code",
   "execution_count": null,
   "id": "a0ff4cc2",
   "metadata": {},
   "outputs": [
    {
     "name": "stdout",
     "output_type": "stream",
     "text": [
      "Welcome to our store!\n"
     ]
    }
   ],
   "source": [
    "#shopping_cart = {'item': 'price'}\n",
    "#capabiltiies= add item, delete item (del)\n",
    "#print after each add/del\n",
    "#loop until user quits\n",
    "#print after user quits\n",
    "\n",
    "\n",
    "cart= {}\n",
    "\n",
    "while True:\n",
    "    print(\"Welcome to our store!\")\n",
    "    item = input(\"Please enter your food item: \")\n",
    "    price = input(\"Please enter your price: \")\n",
    "    cart[item]= price\n",
    "    print(cart)\n",
    "    user_option = input(\"Do you want to [a]dd, [d]elete or [q]uit?:\")\n",
    "    \n",
    "    if user_option == \"a\":\n",
    "      item = input(\"Please enter your food item: \")\n",
    "      price = input(\"Please enter your price: \")\n",
    "      print(cart)\n",
    "      user_option = input(\"Do you want to [a]dd, [d]elete or [q]uit?:\")\n",
    "    \n",
    "    elif user_option == \"d\":\n",
    "      del(cart[item]):\n",
    "      print(cart)\n",
    "      user_option = input(\"Do you want to [a]dd, [d]elete or [q]uit?:\")\n",
    "      \n",
    "    elif user_option == \"q\":\n",
    "        print(cart + \"\\nThank you for shopping with us!\")\n",
    "        active = False"
   ]
  }
 ],
 "metadata": {
  "kernelspec": {
   "display_name": "Python 3 (ipykernel)",
   "language": "python",
   "name": "python3"
  },
  "language_info": {
   "codemirror_mode": {
    "name": "ipython",
    "version": 3
   },
   "file_extension": ".py",
   "mimetype": "text/x-python",
   "name": "python",
   "nbconvert_exporter": "python",
   "pygments_lexer": "ipython3",
   "version": "3.9.12"
  },
  "toc": {
   "base_numbering": 1,
   "nav_menu": {},
   "number_sections": false,
   "sideBar": true,
   "skip_h1_title": false,
   "title_cell": "Table of Contents",
   "title_sidebar": "Contents",
   "toc_cell": false,
   "toc_position": {},
   "toc_section_display": true,
   "toc_window_display": false
  }
 },
 "nbformat": 4,
 "nbformat_minor": 5
}
